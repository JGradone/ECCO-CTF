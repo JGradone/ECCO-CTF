{
 "cells": [
  {
   "cell_type": "code",
   "execution_count": 1,
   "id": "1b28458a-8c85-432b-9452-e3fb0976bab9",
   "metadata": {},
   "outputs": [
    {
     "data": {
      "text/plain": [
       "571.4285714285714"
      ]
     },
     "execution_count": 1,
     "metadata": {},
     "output_type": "execute_result"
    }
   ],
   "source": [
    "2000/3.5 # m/hr"
   ]
  },
  {
   "cell_type": "code",
   "execution_count": 3,
   "id": "24c5ce59-984c-44de-81c2-56e1fdd3ab0c",
   "metadata": {},
   "outputs": [
    {
     "data": {
      "text/plain": [
       "1.05"
      ]
     },
     "execution_count": 3,
     "metadata": {},
     "output_type": "execute_result"
    }
   ],
   "source": [
    "600/571.4285714285714 # m/(m/hr)"
   ]
  },
  {
   "cell_type": "code",
   "execution_count": 4,
   "id": "04d55355-4689-4c98-9ebd-1e01e76f56cb",
   "metadata": {},
   "outputs": [
    {
     "data": {
      "text/plain": [
       "19.0"
      ]
     },
     "execution_count": 4,
     "metadata": {},
     "output_type": "execute_result"
    }
   ],
   "source": [
    "380/20"
   ]
  },
  {
   "cell_type": "code",
   "execution_count": 6,
   "id": "0f8b4d90-9ad2-4cf0-85a4-e87050f79d9b",
   "metadata": {},
   "outputs": [
    {
     "data": {
      "text/plain": [
       "5.7894736842105265"
      ]
     },
     "execution_count": 6,
     "metadata": {},
     "output_type": "execute_result"
    }
   ],
   "source": [
    "110/19"
   ]
  },
  {
   "cell_type": "code",
   "execution_count": null,
   "id": "4dcae5ad-a07e-410d-8d4c-93e44995469e",
   "metadata": {},
   "outputs": [],
   "source": []
  }
 ],
 "metadata": {
  "kernelspec": {
   "display_name": "Python 3 (ipykernel)",
   "language": "python",
   "name": "python3"
  },
  "language_info": {
   "codemirror_mode": {
    "name": "ipython",
    "version": 3
   },
   "file_extension": ".py",
   "mimetype": "text/x-python",
   "name": "python",
   "nbconvert_exporter": "python",
   "pygments_lexer": "ipython3",
   "version": "3.11.7"
  }
 },
 "nbformat": 4,
 "nbformat_minor": 5
}
