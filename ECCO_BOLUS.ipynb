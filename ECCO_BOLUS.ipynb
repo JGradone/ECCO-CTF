{
 "cells": [
  {
   "cell_type": "code",
   "execution_count": 1,
   "id": "fe50df49-0828-4e4a-a8ad-204fe2f5976a",
   "metadata": {},
   "outputs": [],
   "source": [
    "\n",
    "import sys\n",
    "import datetime\n",
    "sys.path.append('/Users/joegradone/SynologyDrive/Drive/Rutgers/Research/code/GitHub/ECCOv4-py')\n",
    "import ecco_v4_py as ecco\n",
    "#from ecco_download import *\n",
    "import numpy as np\n",
    "import pandas as pd\n",
    "from os.path import join,expanduser\n",
    "import xarray as xr\n",
    "import matplotlib.pyplot as plt\n",
    "from getpass import getpass\n",
    "from http.cookiejar import CookieJar\n",
    "from pathlib import Path\n",
    "from netrc import netrc\n",
    "from cartopy.mpl.geoaxes import GeoAxes\n",
    "import cartopy\n",
    "import geopandas\n",
    "from scipy.stats import linregress\n",
    "from mpl_toolkits.axes_grid1 import AxesGrid\n",
    "# library to download files\n",
    "from urllib import request\n",
    "from scipy import signal\n",
    "import glob\n",
    "import xgcm\n",
    "import scipy.signal as sps\n",
    "import scipy.linalg as spl\n",
    "from xgcm import Grid\n",
    "import cmocean.cm as cmo"
   ]
  },
  {
   "cell_type": "code",
   "execution_count": 2,
   "id": "72b25082-3cb8-4a09-814b-bbf70a4ae4c6",
   "metadata": {},
   "outputs": [],
   "source": [
    "download_root_dir = Path('/Users/joegradone/SynologyDrive/Drive/Rutgers/Research/data/ECCO/')\n",
    "## Load grid\n",
    "ecco_grid = xr.open_dataset('/Users/joegradone/SynologyDrive/Drive/Rutgers/Research/data/ECCO/ECCO_L4_GEOMETRY_LLC0090GRID_V4R4/GRID_GEOMETRY_ECCO_V4r4_native_llc0090.nc')\n",
    "ecco_grid = ecco_grid.isel(tile=[10,11])\n",
    "grid = xgcm.Grid(ecco_grid)"
   ]
  },
  {
   "cell_type": "code",
   "execution_count": 3,
   "id": "0eeb06ee-7d40-4df0-bd89-a7b633167998",
   "metadata": {},
   "outputs": [],
   "source": [
    "fnames = glob.glob(''.join([str(download_root_dir),'/ECCO_L4_OCEAN_BOLUS_STREAMFUNCTION_LLC0090GRID_DAILY_V4R4/*.nc']))\n",
    "bolus = xr.open_mfdataset(fnames, parallel=True, data_vars='minimal', coords='minimal', compat='override')"
   ]
  },
  {
   "cell_type": "code",
   "execution_count": 4,
   "id": "e9e4b758-0e18-4709-b164-0ead11ee1396",
   "metadata": {},
   "outputs": [],
   "source": [
    "fnames = glob.glob(''.join([str(download_root_dir),'/ECCO_L4_OCEAN_3D_VOLUME_FLUX_LLC0090GRID_DAILY_V4R4/*.nc']))\n",
    "vol_flux = xr.open_mfdataset(fnames, parallel=True, data_vars='minimal', coords='minimal', compat='override')"
   ]
  },
  {
   "cell_type": "code",
   "execution_count": 5,
   "id": "ba8bed0a-9962-40c3-a509-dfa7e9cf589b",
   "metadata": {},
   "outputs": [],
   "source": [
    "fnames = glob.glob(''.join([str(download_root_dir),'/ECCO_L4_TEMP_SALINITY_LLC0090GRID_DAILY_V4R4/*.nc']))\n",
    "ts = xr.open_mfdataset(fnames, parallel=True, data_vars='minimal', coords='minimal', compat='override')"
   ]
  },
  {
   "cell_type": "code",
   "execution_count": 6,
   "id": "fd5a2dba-4917-479b-b27f-d51388d1ca93",
   "metadata": {},
   "outputs": [],
   "source": [
    "fnames = glob.glob(''.join([str(download_root_dir),'/ECCO_L4_FRESH_FLUX_LLC0090GRID_DAILY_V4R4/*.nc']))\n",
    "fresh_flux = xr.open_mfdataset(fnames, parallel=True, data_vars='minimal', coords='minimal', compat='override')"
   ]
  },
  {
   "cell_type": "code",
   "execution_count": null,
   "id": "6b91b7d5-7f2c-4be2-8080-3eeb1c92eb4c",
   "metadata": {},
   "outputs": [],
   "source": []
  },
  {
   "cell_type": "code",
   "execution_count": null,
   "id": "46e8657f-9039-43d6-9ad6-43a57b09f318",
   "metadata": {},
   "outputs": [],
   "source": []
  },
  {
   "cell_type": "code",
   "execution_count": 7,
   "id": "8f80c24d-cea9-4bf2-b83e-51cfe4d9bef6",
   "metadata": {},
   "outputs": [],
   "source": [
    "# set values on land to zero (instead of NaN)\n",
    "bolus['GM_PsiX'] = bolus.GM_PsiX.where(ecco_grid.hFacW.values > 0,0)\n",
    "bolus['GM_PsiY'] = bolus.GM_PsiY.where(ecco_grid.hFacS.values > 0,0)\n",
    "\n",
    "#grid = ecco.get_llc_grid(ecco_grid)\n",
    "\n",
    "UVELSTAR = grid.diff(bolus.GM_PsiX, 'Z', boundary='fill')/ecco_grid.drF\n",
    "VVELSTAR = grid.diff(bolus.GM_PsiY, 'Z', boundary='fill')/ecco_grid.drF\n",
    "\n",
    "GM_PsiXY_diff = grid.diff_2d_vector({'X' : bolus.GM_PsiX*ecco_grid.dyG,\n",
    "                                     'Y' : bolus.GM_PsiY*ecco_grid.dxG}, boundary = 'fill')\n",
    "WVELSTAR = (GM_PsiXY_diff['X'] + GM_PsiXY_diff['Y'])/ecco_grid.rA\n",
    "\n",
    "SALT_at_u = grid.interp(ts.SALT, 'X', boundary='extend')\n",
    "SALT_at_v = grid.interp(ts.SALT, 'Y', boundary='extend')\n",
    "SALT_at_w = grid.interp(ts.SALT, 'Z', boundary='extend')\n",
    "\n",
    "# Remove oceFWflx from WVELMASS\n",
    "WVELMASS = vol_flux.WVELMASS.transpose('time','tile','k_l','j','i')\n",
    "oceFWflx = fresh_flux.oceFWflx.assign_coords(k_l=0).expand_dims('k_l').transpose('time','tile','k_l','j','i')\n",
    "\n",
    "# Seawater density (kg/m^3)\n",
    "rhoconst = 1029\n",
    "\n",
    "oceFWflx = (oceFWflx/rhoconst)\n",
    "WVELMASS = xr.concat([WVELMASS.sel(k_l=0) + oceFWflx, WVELMASS[:,:,1:]],\n",
    "                     dim='k_l').transpose('time','tile','k_l','j','i')\n",
    "\n",
    "# Salinity advective (Eulerian+Bolus) fluxes (psu m^3/s)\n",
    "ADVx_SLT = (vol_flux.UVELMASS+UVELSTAR)*ecco_grid.dyG*ecco_grid.drF*SALT_at_u\n",
    "\n",
    "ADVy_SLT = (vol_flux.VVELMASS+VVELSTAR)*ecco_grid.dxG*ecco_grid.drF*SALT_at_v\n",
    "\n",
    "ADVr_SLT = (WVELMASS+WVELSTAR)*ecco_grid.rA*SALT_at_w\n",
    "ADVr_SLT = ADVr_SLT.chunk({'time':1,'tile':13,'k_l':50,'j':90,'i':90})\n",
    "\n",
    "ADVxy_diff = grid.diff_2d_vector({'X' : ADVx_SLT, 'Y' : ADVy_SLT}, boundary = 'fill')\n",
    "adv_hConvS = (-(ADVxy_diff['X'] + ADVxy_diff['Y']))\n",
    "adv_vConvS = grid.diff(ADVr_SLT, 'Z', boundary='fill')\n"
   ]
  },
  {
   "cell_type": "code",
   "execution_count": 8,
   "id": "805789f9-4408-48ba-a79f-eafc9f0f4175",
   "metadata": {},
   "outputs": [],
   "source": [
    "ADVx_SLT_bolus = (UVELSTAR)*ecco_grid.dyG*ecco_grid.drF*SALT_at_u\n",
    "ADVx_SLT_euler = (vol_flux.UVELMASS)*ecco_grid.dyG*ecco_grid.drF*SALT_at_u\n",
    "\n",
    "ADVy_SLT_bolus = (UVELSTAR)*ecco_grid.dyG*ecco_grid.drF*SALT_at_v\n",
    "ADVy_SLT_euler = (vol_flux.UVELMASS)*ecco_grid.dyG*ecco_grid.drF*SALT_at_v\n",
    "\n",
    "ADVr_SLT_bolus = (WVELSTAR)*ecco_grid.rA*SALT_at_w\n",
    "ADVr_SLT_euler = (WVELMASS)*ecco_grid.rA*SALT_at_w\n"
   ]
  },
  {
   "cell_type": "code",
   "execution_count": 9,
   "id": "580fb893-ed19-4931-8238-712e2e9d309e",
   "metadata": {},
   "outputs": [
    {
     "name": "stdout",
     "output_type": "stream",
     "text": [
      "k 0\n",
      "2024-06-22 04:35:55.918486\n"
     ]
    },
    {
     "name": "stderr",
     "output_type": "stream",
     "text": [
      "\n",
      "KeyboardInterrupt\n",
      "\n"
     ]
    }
   ],
   "source": [
    "new_grid_delta_lat = 1\n",
    "new_grid_delta_lon = 1\n",
    "\n",
    "new_grid_min_lat = -10\n",
    "new_grid_max_lat = 35\n",
    "\n",
    "new_grid_min_lon = -100\n",
    "new_grid_max_lon = -37\n",
    "\n",
    "\n",
    "lon_shape = len(np.arange(new_grid_min_lon,new_grid_max_lon,new_grid_delta_lon))\n",
    "lat_shape = len(np.arange(new_grid_min_lat,new_grid_max_lat,new_grid_delta_lat))\n",
    "\n",
    "depth_len = 23 # 29 for 1000 m, 23 for 500 m\n",
    "\n",
    "ADVx_SLT_bolus_interp = np.empty([lat_shape,lon_shape,depth_len,len(ADVx_SLT_bolus.time)])\n",
    "ADVx_SLT_bolus_interp[:] = np.nan\n",
    "ADVx_SLT_euler_interp = np.empty([lat_shape,lon_shape,depth_len,len(ADVx_SLT_bolus.time)])\n",
    "ADVx_SLT_euler_interp[:] = np.nan\n",
    "\n",
    "ADVy_SLT_bolus_interp = np.empty([lat_shape,lon_shape,depth_len,len(ADVx_SLT_bolus.time)])\n",
    "ADVy_SLT_bolus_interp[:] = np.nan\n",
    "ADVy_SLT_euler_interp = np.empty([lat_shape,lon_shape,depth_len,len(ADVx_SLT_bolus.time)])\n",
    "ADVy_SLT_euler_interp[:] = np.nan\n",
    "\n",
    "ADVr_SLT_bolus_interp = np.empty([lat_shape,lon_shape,depth_len,len(ADVx_SLT_bolus.time)])\n",
    "ADVr_SLT_bolus_interp[:] = np.nan\n",
    "ADVr_SLT_euler_interp = np.empty([lat_shape,lon_shape,depth_len,len(ADVx_SLT_bolus.time)])\n",
    "ADVr_SLT_euler_interp[:] = np.nan\n",
    "\n",
    "\n",
    "for k in np.arange(0,depth_len):\n",
    "    for t in np.arange(0,len(ADVx_SLT_bolus.time)):\n",
    "        new_grid_lon, new_grid_lat, _, _, ADVx_SLT_bolus_interp[:,:,k,t] = ecco.resample_to_latlon(ecco_grid.XC.values,\n",
    "                                     ecco_grid.YC.values,\n",
    "                                     ADVx_SLT_bolus.isel(time=t,k=k).compute(),\n",
    "                                     new_grid_min_lat, new_grid_max_lat, new_grid_delta_lat,\n",
    "                                     new_grid_min_lon, new_grid_max_lon, new_grid_delta_lon,\n",
    "                                     fill_value = np.NaN,\n",
    "                                     mapping_method = 'nearest_neighbor',\n",
    "                                     radius_of_influence = 120000)\n",
    "\n",
    "    print('k',k)\n",
    "    print(datetime.datetime.now())\n"
   ]
  },
  {
   "cell_type": "markdown",
   "id": "8a28d95a-aeaa-40ef-9c0c-af4ad9fe849a",
   "metadata": {},
   "source": [
    "# TRY THIS IN SPYDER IF THIS DOESNT WORK"
   ]
  },
  {
   "cell_type": "code",
   "execution_count": null,
   "id": "5a0a967e-61bb-420f-bb45-89114cdfbbf5",
   "metadata": {},
   "outputs": [],
   "source": []
  },
  {
   "cell_type": "code",
   "execution_count": null,
   "id": "f89cfd4f-60e9-4a69-bf50-014d434e9ae3",
   "metadata": {},
   "outputs": [],
   "source": []
  },
  {
   "cell_type": "code",
   "execution_count": null,
   "id": "c31f4d10-4e71-4050-b271-cc238c4f45ae",
   "metadata": {},
   "outputs": [],
   "source": []
  },
  {
   "cell_type": "code",
   "execution_count": null,
   "id": "af6b7eef-a826-4463-bf96-ae776ce6f01d",
   "metadata": {},
   "outputs": [],
   "source": []
  }
 ],
 "metadata": {
  "kernelspec": {
   "display_name": "Python 3 (ipykernel)",
   "language": "python",
   "name": "python3"
  },
  "language_info": {
   "codemirror_mode": {
    "name": "ipython",
    "version": 3
   },
   "file_extension": ".py",
   "mimetype": "text/x-python",
   "name": "python",
   "nbconvert_exporter": "python",
   "pygments_lexer": "ipython3",
   "version": "3.11.7"
  }
 },
 "nbformat": 4,
 "nbformat_minor": 5
}
